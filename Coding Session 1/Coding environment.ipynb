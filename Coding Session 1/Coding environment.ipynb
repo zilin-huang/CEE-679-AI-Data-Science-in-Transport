{
 "cells": [
  {
   "cell_type": "markdown",
   "metadata": {},
   "source": [
    "# Building environment\n"
   ]
  },
  {
   "cell_type": "markdown",
   "metadata": {},
   "source": [
    "By now, you should be able to have the anaconda python 3 environment. \n",
    "\n",
    "**Now, begin your greatest exploration in machine learning!**\n",
    "\n",
    "As a warming up, let's simply check the following packages which we will rely on for the rest of the demostrations. "
   ]
  },
  {
   "cell_type": "markdown",
   "metadata": {},
   "source": [
    "## 1. Python data science packages"
   ]
  },
  {
   "cell_type": "code",
   "execution_count": 1,
   "metadata": {},
   "outputs": [
    {
     "name": "stdout",
     "output_type": "stream",
     "text": [
      "Requirement already satisfied: numpy in d:\\anaconda\\lib\\site-packages (1.22.4)\n",
      "1.22.4\n"
     ]
    },
    {
     "name": "stderr",
     "output_type": "stream",
     "text": [
      "\n",
      "[notice] A new release of pip is available: 23.0.1 -> 23.2.1\n",
      "[notice] To update, run: python.exe -m pip install --upgrade pip\n"
     ]
    },
    {
     "name": "stdout",
     "output_type": "stream",
     "text": [
      "3.7.1\n",
      "1.7.0\n",
      "1.0.2\n",
      "1.5.3\n",
      "1.7.6\n"
     ]
    }
   ],
   "source": [
    "# In Python, the \"import\" statement is used to include and access functions, modules, or libraries in the current codebase.\n",
    "\n",
    "! pip install numpy matplotlib scipy scikit-learn pandas xgboost tensorflow keras torch\n",
    "\n",
    "\n",
    "# NumPy is the fundamental package needed for scientific computing with Python. \n",
    "import numpy as np  #  use the NumPy library in our code, referencing it with the shorthand \"np\".\n",
    "print(np.__version__)   #  displays the specified message or variable value to the console.\n",
    "\n",
    "# Matplotlib is a Python 2D plotting library that makes it easy to produce cross-platform charts and figures.\n",
    "import matplotlib as plt \n",
    "print(plt.__version__)\n",
    "\n",
    "# SciPy is a gigantic library of data science packages mainly focused on mathematics, science, and engineering.\n",
    "import scipy\n",
    "print(scipy.__version__)\n",
    "\n",
    "# Scikit-Learn is a Python module for machine learning built on top of SciPy and NumPy.\n",
    "import sklearn\n",
    "print(sklearn.__version__)\n",
    "\n",
    "# Pandas: Provides flexible data structures for practical data analysis in Python.\n",
    "import pandas as pd\n",
    "print(pd.__version__)\n",
    "\n",
    "# XGBoost: An optimized gradient boosting library for fast and accurate machine learning.\n",
    "import xgboost\n",
    "print(xgboost.__version__)\n"
   ]
  },
  {
   "cell_type": "markdown",
   "metadata": {},
   "source": [
    "If you have the different version of these packages as I do, it should be fine. The code should be able to run with different versions. If there truely exists problem, you can intall the same version as mine.\n",
    "**Remark: Don't worry if you don't have these packages** \n",
    "\n",
    "you can easily install using jupyter notebook's magic commands:"
   ]
  },
  {
   "cell_type": "code",
   "execution_count": 2,
   "metadata": {},
   "outputs": [],
   "source": [
    "# ! pip install -U numpy  # exclamation mark, U means update to the newest version,"
   ]
  },
  {
   "cell_type": "markdown",
   "metadata": {},
   "source": [
    "## 2. Deep learning packages"
   ]
  },
  {
   "cell_type": "code",
   "execution_count": 3,
   "metadata": {},
   "outputs": [
    {
     "name": "stdout",
     "output_type": "stream",
     "text": [
      "2.13.0\n",
      "2.13.1\n",
      "1.13.0+cpu\n"
     ]
    }
   ],
   "source": [
    "# TensorFlow is an open-source machine learning framework developed by Google.\n",
    "import tensorflow as tf\n",
    "\n",
    "# Keras is a high-level neural networks API, written in Python and capable of running on top of TensorFlow, CNTK, or Theano.\n",
    "import keras as K\n",
    "\n",
    "# PyTorch is an open-source machine learning library developed by Facebook's AI Research lab.\n",
    "import torch\n",
    "\n",
    "# Printing the versions of the imported libraries.\n",
    "print(tf.__version__)\n",
    "print(K.__version__)\n",
    "print(torch.__version__)\n"
   ]
  },
  {
   "cell_type": "code",
   "execution_count": 4,
   "metadata": {},
   "outputs": [],
   "source": [
    "# ! pip install tensorflow \n",
    "\n",
    "# you can specify the version by using 2 equal signs. \n",
    "# My tensorflow is pretty old due to some legacy research, you can try the latest version with the command\n",
    "# pip install tensorflow"
   ]
  }
 ],
 "metadata": {
  "kernelspec": {
   "display_name": "Python 3 (ipykernel)",
   "language": "python",
   "name": "python3"
  },
  "language_info": {
   "codemirror_mode": {
    "name": "ipython",
    "version": 3
   },
   "file_extension": ".py",
   "mimetype": "text/x-python",
   "name": "python",
   "nbconvert_exporter": "python",
   "pygments_lexer": "ipython3",
   "version": "3.9.12"
  },
  "vscode": {
   "interpreter": {
    "hash": "88279d2366fe020547cde40dd65aa0e3aa662a6ec1f3ca12d88834876c85e1a6"
   }
  }
 },
 "nbformat": 4,
 "nbformat_minor": 2
}
