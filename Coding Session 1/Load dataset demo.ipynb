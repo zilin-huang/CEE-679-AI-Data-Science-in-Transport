{
 "cells": [
  {
   "cell_type": "markdown",
   "metadata": {},
   "source": [
    "# Simple dataset read and save"
   ]
  },
  {
   "cell_type": "markdown",
   "metadata": {},
   "source": [
    "**Remark*\n",
    "\n",
    "Before looking into the details in this notebook, we highly suggest you finish your project part - 1 by yourself. That will greatly enhance your coding ability. \n",
    "\n",
    "If you truely can not solve the problem by yourself, you can look into this notebook"
   ]
  },
  {
   "cell_type": "code",
   "execution_count": 3,
   "metadata": {},
   "outputs": [],
   "source": [
    "# NumPy is a library for numerical computing in Python.\n",
    "import numpy as np\n",
    "\n",
    "# The glob module in Python is used to retrieve files/pathnames matching a specified pattern.\n",
    "import glob  \n",
    "\n",
    "# Matplotlib is a plotting library for creating static, animated, and interactive visualizations in Python.\n",
    "import matplotlib.pyplot as plt\n"
   ]
  },
  {
   "cell_type": "markdown",
   "metadata": {},
   "source": [
    "## Load in the data"
   ]
  },
  {
   "cell_type": "code",
   "execution_count": 6,
   "metadata": {},
   "outputs": [
    {
     "data": {
      "text/plain": [
       "['./dataset/mnist_test\\\\1', './dataset/mnist_test\\\\2']"
      ]
     },
     "execution_count": 6,
     "metadata": {},
     "output_type": "execute_result"
    }
   ],
   "source": [
    "root = glob.glob('./dataset/mnist_test/*')  # get the all the folders containing images\n",
    "root"
   ]
  },
  {
   "cell_type": "code",
   "execution_count": 7,
   "metadata": {},
   "outputs": [
    {
     "name": "stdout",
     "output_type": "stream",
     "text": [
      "./dataset/mnist_test\\1\n",
      "./dataset/mnist_test\\2\n",
      "[array([[  0,   0,   0,   0,   0,   0,   0,   0,   0,   0,   0,   0,   0,\n",
      "          0,   0,   0,   0,   3,   0,   4,   0,   0,   0,   9,   0,   0,\n",
      "          0,   0],\n",
      "       [  0,   0,   0,   0,   0,   0,   0,   0,   0,   0,   0,   0,   0,\n",
      "          0,   0,   0,   1,   0,   0,   0,   3,  14,   3,   0,   0,   0,\n",
      "          0,   0],\n",
      "       [  0,   0,   0,   0,   0,   0,   0,   0,   0,   0,   0,   0,   0,\n",
      "          0,   0,   0,   1,   4,   0,   6,   0,   5,   1,   0,   0,   0,\n",
      "          0,   0],\n",
      "       [  0,   0,   0,   0,   0,   0,   0,   0,   0,   0,   0,   0,   0,\n",
      "          0,   0,   0,   5,   0,   0,   7,   0,   0,   0,   4,   0,   0,\n",
      "          0,   0],\n",
      "       [  0,   0,   0,   0,   0,   0,   0,   0,   0,   0,   0,   0,   0,\n",
      "          0,   0,   0,   0,   0,   4,   1,   7,  12,  11,   0,   0,   0,\n",
      "          0,   0],\n",
      "       [  0,   0,   0,   0,   0,   0,   0,   0,   0,   0,   0,   0,   0,\n",
      "          0,   0,   0,   8,   7, 124, 244, 248,  60,   0,  11,   0,   0,\n",
      "          0,   0],\n",
      "       [  0,   0,   0,   0,   0,   0,   0,   0,   0,   0,   0,   0,   0,\n",
      "          0,   0,   0,   0, 100, 245, 255, 245,  76,   8,   0,   0,   0,\n",
      "          0,   0],\n",
      "       [  0,   0,   0,   0,   0,   0,   0,   0,   0,   0,   0,   0,   0,\n",
      "          0,   0,   0,  10, 115, 255, 253, 253,  61,   0,   0,   0,   0,\n",
      "          0,   0],\n",
      "       [  0,   0,   0,   0,   0,   0,   0,   0,   3,   0,  14,   6,   0,\n",
      "          7,   0,   0,  70, 236, 255, 214,  14,  17,  10,   0,   0,   0,\n",
      "          0,   0],\n",
      "       [  0,   0,   0,   0,   0,   0,   0,   0,   0,  16,   0,   0,  13,\n",
      "          0,  13,  65, 218, 255, 238, 101,   7,   0,   0,   5,   0,   0,\n",
      "          0,   0],\n",
      "       [  0,   0,   0,   0,   0,   0,   0,   0,   0,   8,   0,   0,   0,\n",
      "          3,   0, 164, 255, 255, 187,   3,   0,   0,   0,   7,   0,   0,\n",
      "          0,   0],\n",
      "       [  0,   0,   0,   0,   0,   0,   0,   0,   3,   0,   3,  12,   0,\n",
      "          8,  38, 238, 248, 218,  81,   0,   0,   0,  10,   0,   0,   0,\n",
      "          0,   0],\n",
      "       [  0,   0,   0,   0,   0,   0,   0,   0,   0,   5,   4,   5,   4,\n",
      "         16, 201, 255, 255, 128,   0,   1,  15,   0,   0,   0,   0,   0,\n",
      "          0,   0],\n",
      "       [  0,   0,   0,   0,   0,   0,   0,   0,   0,  16,   0,   0,   0,\n",
      "        113, 255, 241, 172,  28,   0,   0,   7,   0,   0,   0,   0,   0,\n",
      "          0,   0],\n",
      "       [  0,   0,   0,   0,   0,   0,   0,   0,   4,   1,   0,  15,  79,\n",
      "        228, 239, 195,  38,   0,  15,   0,   0,   0,   9,   0,   0,   0,\n",
      "          0,   0],\n",
      "       [  0,   0,   0,   0,   0,   0,   0,   0,   8,   0,   0,  34, 249,\n",
      "        255, 253, 163,   0,   2,   0,   9,   3,   0,  12,   0,   0,   0,\n",
      "          0,   0],\n",
      "       [  0,   0,   0,   0,   0,   0,   0,   0,   4,   6,   0, 153, 241,\n",
      "        255, 239,  47,   0,   0,   0,   0,   0,   0,   0,   0,   0,   0,\n",
      "          0,   0],\n",
      "       [  0,   0,   0,   0,   0,   0,   0,   0,   0,   0,  63, 220, 249,\n",
      "        249, 176,   0,   0,   0,   0,   0,   0,   0,   0,   0,   0,   0,\n",
      "          0,   0],\n",
      "       [  0,   0,   0,   0,   0,   0,   0,   0,   7,   1, 212, 248, 255,\n",
      "        189,  24,   0,   0,   0,   0,   0,   0,   0,   0,   0,   0,   0,\n",
      "          0,   0],\n",
      "       [  0,   0,   0,   0,   0,   0,   0,   0,   4,   0, 255, 255, 246,\n",
      "         89,   0,   5,   0,   0,   0,   0,   0,   0,   0,   0,   0,   0,\n",
      "          0,   0],\n",
      "       [  0,   0,   0,   0,   0,   0,   0,   0,   0, 148, 247, 242, 255,\n",
      "         28,   0,   3,   0,   0,   0,   0,   0,   0,   0,   0,   0,   0,\n",
      "          0,   0],\n",
      "       [  0,   0,   0,   0,   0,   0,   0,   0,  51, 249, 255, 249, 132,\n",
      "          3,  20,   0,   0,   0,   0,   0,   0,   0,   0,   0,   0,   0,\n",
      "          0,   0],\n",
      "       [  0,   0,   0,   0,   0,   0,   0,   0,  42, 253, 255, 200,  16,\n",
      "          5,   0,  16,   0,   0,   0,   0,   0,   0,   0,   0,   0,   0,\n",
      "          0,   0],\n",
      "       [  0,   0,   0,   0,   0,   0,   0,   0,  75, 238, 255, 225,   0,\n",
      "          1,   3,   0,   0,   0,   0,   0,   0,   0,   0,   0,   0,   0,\n",
      "          0,   0],\n",
      "       [  0,   0,   0,   0,   0,   0,   0,   0,  21, 196, 255, 210,  14,\n",
      "          9,   0,   8,   0,   0,   0,   0,   0,   0,   0,   0,   0,   0,\n",
      "          0,   0],\n",
      "       [  0,   0,   0,   0,   0,   0,   0,   0,   0,  11,   0,   5,   0,\n",
      "          8,   0,   0,   0,   0,   0,   0,   0,   0,   0,   0,   0,   0,\n",
      "          0,   0],\n",
      "       [  0,   0,   0,   0,   0,   0,   0,   0,   2,   0,   2,  12,   5,\n",
      "          0,   4,  10,   0,   0,   0,   0,   0,   0,   0,   0,   0,   0,\n",
      "          0,   0],\n",
      "       [  0,   0,   0,   0,   0,   0,   0,   0,   3,   0,  13,   4,   0,\n",
      "          0,   0,   0,   0,   0,   0,   0,   0,   0,   0,   0,   0,   0,\n",
      "          0,   0]], dtype=uint8), array([[  0,   0,   0,   0,   0,   0,   0,   0,   8,   0,   8,   0,   0,\n",
      "          0,   4,   0,   0,   0,   0,   0,   0,   0,   0,   0,   0,   0,\n",
      "          0,   0],\n",
      "       [  0,   0,   0,   0,   0,   0,   0,   0,   1,   0,   0,  13,   5,\n",
      "          0,   0,   0,   0,   0,   0,   0,   0,   0,   0,   0,   0,   0,\n",
      "          0,   0],\n",
      "       [  0,   0,   0,   0,   0,   0,   0,   0,   3,   3,   0,   2,   0,\n",
      "          1,   4,   1,   0,   0,   0,   0,   0,   0,   0,   0,   0,   0,\n",
      "          0,   0],\n",
      "       [  0,   0,   0,   0,   0,   0,   0,   0,   4,   0,   0,   3,   2,\n",
      "          0,   5,   3,   0,   0,   0,   0,   0,   0,   0,   0,   0,   0,\n",
      "          0,   0],\n",
      "       [  0,   0,   0,   0,   0,   0,   0,   0,   0,   1,   0,   0, 156,\n",
      "        255, 228,  19,   0,   0,   0,   0,   0,   0,   0,   0,   0,   0,\n",
      "          0,   0],\n",
      "       [  0,   0,   0,   0,   0,   0,   0,   0,  14,   0,  11,  38, 224,\n",
      "        255, 244,  70,   0,   0,   0,   0,   0,   0,   0,   0,   0,   0,\n",
      "          0,   0],\n",
      "       [  0,   0,   0,   0,   0,   0,   0,   0,   0,   0,   0,   8, 184,\n",
      "        243, 249,  76,   0,   0,   0,   0,   0,   0,   0,   0,   0,   0,\n",
      "          0,   0],\n",
      "       [  0,   0,   0,   0,   0,   0,   0,   0,   0,   9,   0,   0, 154,\n",
      "        247, 255,  70,   0,   0,   0,   0,   0,   0,   0,   0,   0,   0,\n",
      "          0,   0],\n",
      "       [  0,   0,   0,   0,   0,   0,   0,   0,   0,   3,   0,   3, 205,\n",
      "        255, 239,  71,   0,   0,   9,   0,   8,   0,   0,   0,   0,   0,\n",
      "          0,   0],\n",
      "       [  0,   0,   0,   0,   0,   0,   0,   0,   2,   0,  12,  23, 208,\n",
      "        255, 252, 144,  39,   2,   2,   0,   9,   0,   0,   3,   0,   0,\n",
      "          0,   0],\n",
      "       [  0,   0,   0,   0,   0,   0,   0,   0,   9,   0,   5,  10, 127,\n",
      "        240, 255, 232,  91,   6,   0,   1,   6,   0,   0,   5,   0,   0,\n",
      "          0,   0],\n",
      "       [  0,   0,   0,   0,   0,   0,   0,   0,   2,   9,   0,   0,  20,\n",
      "        246, 252, 255, 117,   5,   0,   3,   0,   0,   1,   1,   0,   0,\n",
      "          0,   0],\n",
      "       [  0,   0,   0,   0,   0,   0,   0,   0,   0,  11,   0,   0,   0,\n",
      "        255, 246, 254, 113,   0,   4,   2,   0,   0,   4,   0,   0,   0,\n",
      "          0,   0],\n",
      "       [  0,   0,   0,   0,   0,   0,   0,   0,   0,   0,   7,   1,   9,\n",
      "        252, 253, 249, 103,   0,   8,   0,   0,   5,   2,   0,   0,   0,\n",
      "          0,   0],\n",
      "       [  0,   0,   0,   0,   0,   0,   0,   0,   7,   0,   2,   0,   3,\n",
      "        240, 255, 253, 106,   0,   6,   0,   0,   7,   0,   1,   0,   0,\n",
      "          0,   0],\n",
      "       [  0,   0,   0,   0,   0,   0,   0,   0,   0,   1,   0,   8,   0,\n",
      "        249, 255, 245, 116,   0,   2,   0,   4,   6,   0,   8,   0,   0,\n",
      "          0,   0],\n",
      "       [  0,   0,   0,   0,   0,   0,   0,   0,   0,   9,   0,   0,   3,\n",
      "        255, 250, 254, 179,   0,   0,   0,   3,   0,   7,   0,   0,   0,\n",
      "          0,   0],\n",
      "       [  0,   0,   0,   0,   0,   0,   0,   0,   0,   5,   0,   0,   8,\n",
      "        226, 255, 251, 240,  58,   8,   1,   6,   0,   5,   2,   0,   0,\n",
      "          0,   0],\n",
      "       [  0,   0,   0,   0,   0,   0,   0,   0,   0,   2,   0,   1,   8,\n",
      "        160, 255, 245, 255, 118,   0,   0,   2,   0,   2,   5,   0,   0,\n",
      "          0,   0],\n",
      "       [  0,   0,   0,   0,   0,   0,   0,   0,   3,   0,   0,   0,   0,\n",
      "         85, 250, 247, 248, 170,   0,   0,   2,   0,   1,   0,   0,   0,\n",
      "          0,   0],\n",
      "       [  0,   0,   0,   0,   0,   0,   0,   0,   3,   0,   0,   0,   0,\n",
      "         28, 217, 255, 252, 234,  24,   4,   5,   2,   3,   0,   0,   0,\n",
      "          0,   0],\n",
      "       [  0,   0,   0,   0,   0,   0,   0,   0,   0,   0,   0,   0,   0,\n",
      "          2, 161, 255, 254, 255,  38,   1,   0,   0,   4,   0,   0,   0,\n",
      "          0,   0],\n",
      "       [  0,   0,   0,   0,   0,   0,   0,   0,   0,   0,   0,   2,   0,\n",
      "          0,  89, 240, 247, 255,  32,   0,   0,   0,   0,   1,   0,   0,\n",
      "          0,   0],\n",
      "       [  0,   0,   0,   0,   0,   0,   0,   0,   1,   0,   0,   4,   3,\n",
      "          0,  35, 213, 252, 252,  32,   0,  11,   0,   0,   6,   0,   0,\n",
      "          0,   0],\n",
      "       [  0,   0,   0,   0,   0,   0,   0,   0,   0,   0,   0,   0,   0,\n",
      "          0,   0,   0,   0,   0,   0,   0,   0,   0,   0,   0,   0,   0,\n",
      "          0,   0],\n",
      "       [  0,   0,   0,   0,   0,   0,   0,   0,   0,   0,   0,   0,   0,\n",
      "          0,   0,   0,   0,   0,   0,   0,   0,   0,   0,   0,   0,   0,\n",
      "          0,   0],\n",
      "       [  0,   0,   0,   0,   0,   0,   0,   0,   0,   0,   0,   0,   0,\n",
      "          0,   0,   0,   0,   0,   0,   0,   0,   0,   0,   0,   0,   0,\n",
      "          0,   0],\n",
      "       [  0,   0,   0,   0,   0,   0,   0,   0,   0,   0,   0,   0,   0,\n",
      "          0,   0,   0,   0,   0,   0,   0,   0,   0,   0,   0,   0,   0,\n",
      "          0,   0]], dtype=uint8), array([[  0,   0,   0,   0,   0,   0,   0,   0,   0,   9,   3,   0,   4,\n",
      "          9,   0,   0,   3,   0,   3,   0,   0,   8,   2,   0,   0,   0,\n",
      "          0,   0],\n",
      "       [  0,   0,   0,   0,   0,   0,   0,   0,  14,   0,   0,   0,   4,\n",
      "          0,   0,   3,   0,   9,   0,   6,  10,   0,   5,   0,   0,   0,\n",
      "          0,   0],\n",
      "       [  0,   0,   0,   0,   0,   0,   0,   0,   0,   0,   6,   7,   5,\n",
      "         12,  10,   0,  11,   0,  18,   0,   0,  23,   0,  12,   0,   0,\n",
      "          0,   0],\n",
      "       [  0,   0,   0,   0,   0,   0,   0,   0,  15,   0,   0,   1,   0,\n",
      "          0,   4,   0,   0,   0,   6,   0,   0,   2,   0,   5,   0,   0,\n",
      "          0,   0],\n",
      "       [  0,   0,   0,   0,   0,   0,   0,   0,   0,   0,   8,   8,   0,\n",
      "          0,   3,   2,  20,   0,   0,  13,   0,   0,   0,   4,   0,   0,\n",
      "          0,   0],\n",
      "       [  0,   0,   0,   0,   0,   0,   0,   0,  16,   0,   3,  89, 176,\n",
      "        225, 243, 245, 173,  42,   0,   0,   2,  10,   0,   4,   0,   0,\n",
      "          0,   0],\n",
      "       [  0,   0,   0,   0,   0,   0,   0,   0,   0,  47, 165, 255, 239,\n",
      "        169, 178, 254, 255, 196,  16,   0,  13,   0,  15,   0,   0,   0,\n",
      "          0,   0],\n",
      "       [  0,   0,   0,   0,   0,   0,   0,   0,  10, 183, 248, 130,  14,\n",
      "          0,  19,  32, 238, 255, 121,   1,   0,   0,   0,   4,   0,   0,\n",
      "          0,   0],\n",
      "       [  0,   0,   0,   0,   0,   0,   0,   0,  56, 255, 155,   0,   6,\n",
      "          0,   0,   2, 125, 255, 227,   5,   4,   0,   5,   0,   0,   0,\n",
      "          0,   1],\n",
      "       [  0,   0,   0,   0,   0,   0,   0,   0,  84, 193,  99,   0,   7,\n",
      "          4,   4,   0,  58, 254, 216,   5,   0,   5,   0,   1,   5,   2,\n",
      "          0,   1],\n",
      "       [  0,   0,   0,   0,   0,   0,   0,   0,   7,  26,   0,   0,   0,\n",
      "          0,   0,   0,  29, 255, 255, 103,   4,  12,   0,   1,   5,   2,\n",
      "          0,   0],\n",
      "       [  0,   0,   0,   0,   0,   0,   0,   0,   0,   0,   0,  10,   6,\n",
      "          7,   5,   2,  10, 197, 255, 142,   0,   0,   9,   8,   0,   2,\n",
      "          2,   0],\n",
      "       [  0,   0,   0,   0,   0,   0,   0,   0,   2,   0,   7,   0,   0,\n",
      "          0,   0,   0,  19, 188, 255, 152,   8,   0,   9,   0,   0,   0,\n",
      "          4,   6],\n",
      "       [  0,   0,   0,   0,   0,   0,   0,   0,   0,   3,   5,   0,   1,\n",
      "         12,   2,   4,   0, 210, 255, 106,   8,   0,   0,  11,  12,   0,\n",
      "          0,   0],\n",
      "       [  0,   0,   0,   0,   0,   0,   0,   0,   0,   0,   0,   3,   2,\n",
      "          0,   0,   0,  58, 255, 249,  75,   0,   0,  12,  63, 117,  52,\n",
      "          0,   0],\n",
      "       [  0,   0,   0,   0,   0,   0,   0,   0,  10,   0,   0,  13,   0,\n",
      "          0,  21,  32,  89, 245, 255, 195, 163, 211, 227, 254, 250, 135,\n",
      "         24,   0],\n",
      "       [  0,   0,   0,   0,   5,   0,  13,   0,  16,  32,  82, 139, 183,\n",
      "        211, 213, 253, 255, 243, 255, 245, 225, 234, 115,  55,  24,  12,\n",
      "          0,   0],\n",
      "       [  0,   0,  12,   0,   3,   1,   0, 133, 209, 237, 255, 247, 255,\n",
      "        236, 226, 253, 234, 255, 149,  50,   0,   0,   8,   3,   9,   3,\n",
      "          0,   0],\n",
      "       [  7,   0,   0,  15,   0,   0, 208, 255, 240, 197, 138,  69,  57,\n",
      "         44,   0, 218, 255, 202,  28,   0,   4,   0,  11,   0,   0,   0,\n",
      "          0,   0],\n",
      "       [  0,   4,   6,   0,   8,   0, 255, 205,  56,   0,   7,   5,   0,\n",
      "          0, 138, 249, 222,  59,   0,   5,   0,   0,   0,   0,   0,   0,\n",
      "          1,   2],\n",
      "       [  0,   4,   6,   0,   8,   0, 255, 205,   1,   0,  10,   2,   0,\n",
      "        185, 255, 242,  79,   0,  20,   8,   0,   0,   0,   9,   1,   3,\n",
      "          3,   2],\n",
      "       [  7,   0,   0,  15,   0,   0, 208, 255, 162, 185, 112, 108, 228,\n",
      "        246, 207,  45,   0,   0,   0,   0,  17,  12,   0,   0,   2,   2,\n",
      "          1,   0],\n",
      "       [  0,   0,  12,   0,   3,   1,   0, 133, 244, 247, 255, 249, 148,\n",
      "         75,  10,   0,   6,  21,   0,   0,  15,   0,   0,  10,   1,   0,\n",
      "          0,   0],\n",
      "       [  0,   0,   0,   0,   5,   0,  13,   0,   1,   0,   0,   0,  15,\n",
      "          5,   0,   6,   0,   0,   9,   0,   3,   0,   5,   0,   2,   0,\n",
      "          0,   1],\n",
      "       [  0,   0,   0,   0,   0,   0,   0,   0,   0,   0,   0,   0,   0,\n",
      "          0,   0,   0,   0,   0,   0,   0,   0,   0,   0,   0,   0,   0,\n",
      "          0,   0],\n",
      "       [  0,   0,   0,   0,   0,   0,   0,   0,   0,   0,   0,   0,   0,\n",
      "          0,   0,   0,   0,   0,   0,   0,   0,   0,   0,   0,   0,   0,\n",
      "          0,   0],\n",
      "       [  0,   0,   0,   0,   0,   0,   0,   0,   0,   0,   0,   0,   0,\n",
      "          0,   0,   0,   0,   0,   0,   0,   0,   0,   0,   0,   0,   0,\n",
      "          0,   0],\n",
      "       [  0,   0,   0,   0,   0,   0,   0,   0,   0,   0,   0,   0,   0,\n",
      "          0,   0,   0,   0,   0,   0,   0,   0,   0,   0,   0,   0,   0,\n",
      "          0,   0]], dtype=uint8), array([[  0,   0,   0,   0,   0,   0,   0,   0,   7,   0,   0,   0,   1,\n",
      "          5,   0,   0,   0,   5,   0,   0,  11,   4,   0,   0,   0,   0,\n",
      "          0,   0],\n",
      "       [  0,   0,   0,   0,   0,   0,   0,   0,   0,   0,  10,  11,   1,\n",
      "          0,   3,  12,   8,  13,   3,   3,   0,   0,   1,   2,   0,   0,\n",
      "          0,   0],\n",
      "       [  0,   0,   0,   0,   0,   0,   0,   0,  15,   7,   0,   0,   0,\n",
      "          0,   0,   0,   0,   0,   0,  17,   0,   6,   7,   3,   0,   0,\n",
      "          0,   0],\n",
      "       [  0,   0,   0,   0,   0,   0,   0,   0,   0,   0,   2,   4,   3,\n",
      "          2,   3,   4,  16,   0,   0,   0,   0,   0,   0,   0,   0,   0,\n",
      "          0,   0],\n",
      "       [  0,   0,   0,   0,   0,   0,   0,   0,   6,   1,   0,   0,   0,\n",
      "          0,   0,   0,   0,   5,  29,   0,  10,  11,   9,   6,   0,   0,\n",
      "          0,   0],\n",
      "       [  0,   0,   0,   0,   0,   0,   0,   0,   0,   0,   6,   4,   0,\n",
      "          0,   3,  10,  34,  88, 118,   9,   0,   0,   0,   0,   0,   0,\n",
      "          0,   0],\n",
      "       [  0,   0,   0,   0,   0,   0,   0,   0,   0,   5,   1,   0,   0,\n",
      "         50, 142, 214, 254, 255, 255, 141,   8,   0,   0,   7,   0,   0,\n",
      "          0,   0],\n",
      "       [  0,   0,   0,   0,   0,   0,   0,   0,   6,   0,   0,  59, 155,\n",
      "        230, 255, 252, 226, 203, 249, 224,  48,  12,   0,   1,   0,   0,\n",
      "          0,   0],\n",
      "       [  0,   0,   0,   0,   0,   0,   0,   0,   0,  26, 140, 251, 255,\n",
      "        250, 255, 201,  22,  35, 255, 254,  66,   0,   0,   9,   0,   0,\n",
      "          0,   0],\n",
      "       [  0,   0,   0,   0,   0,   0,   0,   0,   0, 100, 255, 238, 249,\n",
      "        252, 209,  47,  14,  42, 234, 242,  61,   4,   0,   2,   0,   0,\n",
      "          0,   0],\n",
      "       [  0,   0,   0,   0,   0,   0,   0,   0,  14, 153, 255, 253, 221,\n",
      "        184,  29,   0,   0,  83, 248, 255,  53,   9,   0,   5,   0,   0,\n",
      "          0,   0],\n",
      "       [  0,   0,   0,   0,   0,   0,   0,   0,   0,  41, 125,  60,   6,\n",
      "          0,   0,   9,   0, 100, 255, 233,  70,   0,   7,   0,   0,   0,\n",
      "          0,   0],\n",
      "       [  0,   0,   0,   0,   0,   0,   0,   0,   0,   0,   5,   0,  19,\n",
      "          0,   0,   8,   4, 149, 255, 252,  54,   8,   0,   0,   0,   0,\n",
      "          0,   0],\n",
      "       [  0,   0,   0,   0,   0,   0,   0,   0,   0,   0,   0,   5,   0,\n",
      "        115, 143, 112, 111, 217, 244, 195,  10,   6,   0,   9,   0,   0,\n",
      "          0,   0],\n",
      "       [  0,   0,   0,   0,   0,   0,   0,   0,  25,   0,  11,  58, 182,\n",
      "        253, 248, 255, 255, 237, 211,  42,   1,   0,  15,   0,   0,   0,\n",
      "          0,   0],\n",
      "       [  0,   0,   0,   0,   0,   0,   0,   0,   0,  72, 222, 255, 225,\n",
      "        236, 169, 239, 241, 255, 233, 117,   0,  14,   0,   2,   0,   0,\n",
      "          0,   0],\n",
      "       [  0,   3,   7,   0,   3,   9,   0,   8,  72, 246, 255, 141,  46,\n",
      "         11,   9, 209, 255, 244, 255, 238, 107,   5,   0,   0,   2,   0,\n",
      "          4,   0],\n",
      "       [  9,   0,   0,   7,   0,   7,   0, 135, 255, 254, 183,   5,   0,\n",
      "         29, 210, 246, 233, 146, 162, 250, 247, 165,  90,  43,  56,   0,\n",
      "          6,  18],\n",
      "       [  0,   2,   0,   8,   7,   8, 134, 255, 239,  97,   9,  22,  41,\n",
      "        206, 249, 218,  68,   2,   9,  92, 169, 230, 255, 253, 223,  29,\n",
      "          0,   0],\n",
      "       [  0,   4,   4,   0,   0,  97, 255, 239,  87,  14,  65, 173, 246,\n",
      "        245, 105,  43,   0,   0,   0,   0,   6,  93, 171, 183,  32,   0,\n",
      "          7,  18],\n",
      "       [  5,   0,   9,   5,   0, 246, 255, 234, 193, 237, 255, 250, 255,\n",
      "        112,  29,   0,  15,   7,   8,   3,   0,   0,   7,   0,  19,  15,\n",
      "          0,   0],\n",
      "       [  0,   3,   0,   0,  13, 196, 223, 255, 255, 241, 165, 108,  39,\n",
      "         12,   0,   9,   0,   0,   0,   2,   6,   6,   4,   0,   0,  12,\n",
      "          0,   0],\n",
      "       [  0,  14,   0,   0,   6,  19,  99, 140, 121,  31,  23,   0,   0,\n",
      "         14,   0,   5,   1,  11,  15,   4,   0,   0,   0,   0,   0,   5,\n",
      "          0,   5],\n",
      "       [  0,   0,   8,  10,   0,   0,   0,   0,   4,   0,   0,   4,   3,\n",
      "          0,  10,   0,   5,   0,   0,   0,   0,   0,   1,   3,   4,   0,\n",
      "          7,   6],\n",
      "       [  0,   0,   0,   0,   0,   0,   0,   0,   0,   0,   0,   0,   0,\n",
      "          0,   0,   0,   0,   0,   0,   0,   0,   0,   0,   0,   0,   0,\n",
      "          0,   0],\n",
      "       [  0,   0,   0,   0,   0,   0,   0,   0,   0,   0,   0,   0,   0,\n",
      "          0,   0,   0,   0,   0,   0,   0,   0,   0,   0,   0,   0,   0,\n",
      "          0,   0],\n",
      "       [  0,   0,   0,   0,   0,   0,   0,   0,   0,   0,   0,   0,   0,\n",
      "          0,   0,   0,   0,   0,   0,   0,   0,   0,   0,   0,   0,   0,\n",
      "          0,   0],\n",
      "       [  0,   0,   0,   0,   0,   0,   0,   0,   0,   0,   0,   0,   0,\n",
      "          0,   0,   0,   0,   0,   0,   0,   0,   0,   0,   0,   0,   0,\n",
      "          0,   0]], dtype=uint8)]\n",
      "['mnist_test\\\\1', 'mnist_test\\\\1', 'mnist_test\\\\2', 'mnist_test\\\\2']\n"
     ]
    }
   ],
   "source": [
    "images_all = []\n",
    "labels_all = []\n",
    "for directory in root:\n",
    "    print(directory)\n",
    "    label = directory.split('/')[-1]  # get the label from folder name\n",
    "    img_files = glob.glob(directory+'/*.jpg')  # obtain the paths of all image files with the \".jpg\" extension in the current folder\n",
    "    for img_f in img_files:\n",
    "        images_all.append(plt.imread(img_f,'JPG')) # read the image into numpy file\n",
    "        labels_all.append(label)\n",
    "print(images_all)\n",
    "print(labels_all)"
   ]
  },
  {
   "cell_type": "code",
   "execution_count": 8,
   "metadata": {
    "scrolled": true
   },
   "outputs": [
    {
     "data": {
      "text/plain": [
       "(28, 28)"
      ]
     },
     "execution_count": 8,
     "metadata": {},
     "output_type": "execute_result"
    }
   ],
   "source": [
    "images_all[0].shape"
   ]
  },
  {
   "cell_type": "code",
   "execution_count": 9,
   "metadata": {},
   "outputs": [
    {
     "data": {
      "text/plain": [
       "<matplotlib.image.AxesImage at 0x2224d967b80>"
      ]
     },
     "execution_count": 9,
     "metadata": {},
     "output_type": "execute_result"
    },
    {
     "data": {
      "image/png": "[encoded data removed]",
      "text/plain": [
       "<Figure size 432x288 with 1 Axes>"
      ]
     },
     "metadata": {
      "needs_background": "light"
     },
     "output_type": "display_data"
    }
   ],
   "source": [
    "plt.imshow(images_all[0])"
   ]
  },
  {
   "cell_type": "markdown",
   "metadata": {},
   "source": [
    "## Flatten in to $N \\times D$"
   ]
  },
  {
   "cell_type": "code",
   "execution_count": 10,
   "metadata": {},
   "outputs": [
    {
     "data": {
      "text/plain": [
       "((4, 784), (4,))"
      ]
     },
     "execution_count": 10,
     "metadata": {},
     "output_type": "execute_result"
    }
   ],
   "source": [
    "# Each image's pixel values are reshaped into a 28x28 two-dimensional array, matching the standard image size of the MNIST dataset.\n",
    "X = np.array(images_all).flatten().reshape(len(images_all),28*28)\n",
    "\n",
    "# Convert the labels_all list into a NumPy array\n",
    "y = np.array(labels_all)\n",
    "\n",
    "X.shape, y.shape"
   ]
  },
  {
   "cell_type": "code",
   "execution_count": 17,
   "metadata": {},
   "outputs": [
    {
     "data": {
      "image/png": "[encoded data removed]",
      "text/plain": [
       "<Figure size 432x288 with 1 Axes>"
      ]
     },
     "metadata": {
      "needs_background": "light"
     },
     "output_type": "display_data"
    },
    {
     "data": {
      "image/png": "[encoded data removed]",
      "text/plain": [
       "<Figure size 432x288 with 1 Axes>"
      ]
     },
     "metadata": {
      "needs_background": "light"
     },
     "output_type": "display_data"
    },
    {
     "data": {
      "image/png": "[encoded data removed]",
      "text/plain": [
       "<Figure size 432x288 with 1 Axes>"
      ]
     },
     "metadata": {
      "needs_background": "light"
     },
     "output_type": "display_data"
    },
    {
     "data": {
      "image/png": "[encoded data removed]",
      "text/plain": [
       "<Figure size 432x288 with 1 Axes>"
      ]
     },
     "metadata": {
      "needs_background": "light"
     },
     "output_type": "display_data"
    }
   ],
   "source": [
    "# Using the enumerate function, iterate through each row in X (each image data) and obtain its index (ind) and data (row).\n",
    "for ind,row in enumerate(X):\n",
    "    plt.imshow(row.reshape(28,28))  # reshaped into a 28x28 two-dimensional array with .reshape(28, 28)\n",
    "    plt.title(\"label: \" + y[ind])\n",
    "    plt.show()"
   ]
  },
  {
   "cell_type": "markdown",
   "metadata": {},
   "source": [
    "## Train test split without sklearn "
   ]
  },
  {
   "cell_type": "code",
   "execution_count": 11,
   "metadata": {},
   "outputs": [],
   "source": [
    "# Validation dataset\n",
    "VALIDATION_PROPORTION = 0.3  # you can specify any number between 0-1  just the proportion of test size\n",
    "\n",
    "np.random.seed(2)   # it ensures that the same random numbers are generated each time the code is run\n",
    "probabilities = np.random.uniform(size=len(X))  # generate random numbers from a uniform distribution \n",
    "\n",
    "# This line checks if the random probability for each sample is less than VALIDATION_PROPORTION. \n",
    "# If it is, the corresponding element is set to True, indicating that the sample is selected for validation. \n",
    "# Otherwise, it is set to False, indicating that the sample is not used for validation.\n",
    "selected_validation = probabilities<VALIDATION_PROPORTION\n"
   ]
  },
  {
   "cell_type": "code",
   "execution_count": 12,
   "metadata": {},
   "outputs": [],
   "source": [
    "# Train dataset\n",
    "probabilities = np.random.uniform(size=len(X)) \n",
    "selected_validation = probabilities<VALIDATION_PROPORTION\n",
    "selected_train = ~ selected_validation  # take the binary One’s complement"
   ]
  },
  {
   "cell_type": "code",
   "execution_count": 13,
   "metadata": {},
   "outputs": [
    {
     "data": {
      "text/plain": [
       "array([False, False,  True, False])"
      ]
     },
     "execution_count": 13,
     "metadata": {},
     "output_type": "execute_result"
    }
   ],
   "source": [
    "selected_validation"
   ]
  },
  {
   "cell_type": "code",
   "execution_count": 14,
   "metadata": {},
   "outputs": [
    {
     "data": {
      "text/plain": [
       "array([ True,  True, False,  True])"
      ]
     },
     "execution_count": 14,
     "metadata": {},
     "output_type": "execute_result"
    }
   ],
   "source": [
    "selected_train"
   ]
  },
  {
   "cell_type": "code",
   "execution_count": 15,
   "metadata": {},
   "outputs": [],
   "source": [
    "Train_X = X[selected_train]\n",
    "Valid_X = X[selected_validation]\n",
    "Train_y = y[selected_train]\n",
    "Valid_y = y[selected_validation]"
   ]
  },
  {
   "cell_type": "code",
   "execution_count": 16,
   "metadata": {},
   "outputs": [
    {
     "data": {
      "text/plain": [
       "(3, 784)"
      ]
     },
     "execution_count": 16,
     "metadata": {},
     "output_type": "execute_result"
    }
   ],
   "source": [
    "Train_X.shape"
   ]
  },
  {
   "cell_type": "markdown",
   "metadata": {},
   "source": [
    "## Save"
   ]
  },
  {
   "cell_type": "code",
   "execution_count": 17,
   "metadata": {},
   "outputs": [],
   "source": [
    "np.save(\"X_train.npy\", Train_X)\n",
    "np.save(\"y_train.npy\", Train_y)\n",
    "np.save(\"X_valid.npy\", Valid_X)\n",
    "np.save(\"y_valid.npy\", Valid_y)"
   ]
  },
  {
   "cell_type": "markdown",
   "metadata": {},
   "source": [
    "## Load"
   ]
  },
  {
   "cell_type": "code",
   "execution_count": 39,
   "metadata": {},
   "outputs": [],
   "source": [
    "X_load_back = np.load('X_valid.npy')"
   ]
  },
  {
   "cell_type": "code",
   "execution_count": 40,
   "metadata": {},
   "outputs": [
    {
     "data": {
      "text/plain": [
       "True"
      ]
     },
     "execution_count": 40,
     "metadata": {},
     "output_type": "execute_result"
    }
   ],
   "source": [
    "# This line checks if all elements of X_load_back are equal to the elements in Valid_X. \n",
    "# It returns True if all elements match and False if there is any difference.\n",
    "\n",
    "(X_load_back == Valid_X).all()  # check if all right"
   ]
  }
 ],
 "metadata": {
  "kernelspec": {
   "display_name": "Python 3 (ipykernel)",
   "language": "python",
   "name": "python3"
  },
  "language_info": {
   "codemirror_mode": {
    "name": "ipython",
    "version": 3
   },
   "file_extension": ".py",
   "mimetype": "text/x-python",
   "name": "python",
   "nbconvert_exporter": "python",
   "pygments_lexer": "ipython3",
   "version": "3.9.12"
  },
  "vscode": {
   "interpreter": {
    "hash": "88279d2366fe020547cde40dd65aa0e3aa662a6ec1f3ca12d88834876c85e1a6"
   }
  }
 },
 "nbformat": 4,
 "nbformat_minor": 2
}
